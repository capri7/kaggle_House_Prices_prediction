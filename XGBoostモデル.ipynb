{
 "cells": [
  {
   "cell_type": "markdown",
   "id": "ec47f502-8826-4cca-a40f-898d38276bb0",
   "metadata": {},
   "source": [
    "# XGBoost"
   ]
  },
  {
   "cell_type": "code",
   "execution_count": 2,
   "id": "52fcd79a-208b-4c91-8002-c8a7ac95b413",
   "metadata": {},
   "outputs": [
    {
     "name": "stdout",
     "output_type": "stream",
     "text": [
      "Collecting xgboost\n",
      "  Using cached xgboost-2.1.0-py3-none-macosx_10_15_x86_64.macosx_11_0_x86_64.macosx_12_0_x86_64.whl.metadata (2.1 kB)\n",
      "Requirement already satisfied: numpy in /opt/anaconda3/lib/python3.12/site-packages (from xgboost) (1.26.4)\n",
      "Requirement already satisfied: scipy in /opt/anaconda3/lib/python3.12/site-packages (from xgboost) (1.13.1)\n",
      "Using cached xgboost-2.1.0-py3-none-macosx_10_15_x86_64.macosx_11_0_x86_64.macosx_12_0_x86_64.whl (2.1 MB)\n",
      "Installing collected packages: xgboost\n",
      "Successfully installed xgboost-2.1.0\n"
     ]
    }
   ],
   "source": [
    "!pip install xgboost"
   ]
  },
  {
   "cell_type": "code",
   "execution_count": 2,
   "id": "db81d32f-f02f-4007-98b6-d5e5e00cde64",
   "metadata": {},
   "outputs": [
    {
     "name": "stdout",
     "output_type": "stream",
     "text": [
      "Best parameters found: {'colsample_bytree': 0.6, 'learning_rate': 0.1, 'max_depth': 6, 'n_estimators': 100, 'subsample': 0.6}\n",
      "Best cross-validation MAE: 18121.2184\n",
      "Mean Absolute Error (MAE): 16146.8340\n",
      "Mean Squared Error (MSE): 599679629.3676\n",
      "R-squared (R2): 0.9141\n",
      "Root Mean Squared Error (RMSE): 24488.3570\n",
      "最適なXGBoostモデルが /Users/hayakawakazue/Downloads/house_price/model/xgboost_0721_1.joblib に保存されました。\n",
      "Mean Actual Value: 180007.70319634702\n",
      "Mean Absolute Percentage Error (MAPE): 8.97%\n"
     ]
    }
   ],
   "source": [
    "import xgboost as xgb\n",
    "import pandas as pd\n",
    "import numpy as np\n",
    "from sklearn.model_selection import train_test_split, GridSearchCV\n",
    "from sklearn.metrics import mean_absolute_error, mean_squared_error, r2_score\n",
    "import joblib\n",
    "import os\n",
    "\n",
    "# データの読み込み\n",
    "data_path = '/Users/hayakawakazue/Downloads/house_price/train/scaled_data.csv'\n",
    "data = pd.read_csv(data_path)\n",
    "\n",
    "# 特徴量の選択\n",
    "important_features = [\n",
    "    'OverallQual_Capped',  'OverallHomeQuality', 'FunctionalSpace', \n",
    "    'GarageQuality', 'capped_log_GrLivArea', 'TotalBath_Capped',\n",
    "    'OverallCond', 'GarageCars_Capped', 'BsmtExposureQual', 'YearBuilt_Capped',\n",
    "    'BasementQualityInteraction', 'log_TotalBsmtSF_Capped',\n",
    "    'HouseAge', 'OutdoorSpaceQuality', 'PorchAndDeckArea', 'LotArea' \n",
    "]\n",
    "\n",
    "# 特徴量と目的変数を分ける\n",
    "X = data[important_features]\n",
    "y = data['SalePrice']\n",
    "\n",
    "# 訓練データとテストデータに分割\n",
    "X_train, X_test, y_train, y_test = train_test_split(X, y, test_size=0.3, random_state=42)\n",
    "\n",
    "# XGBoostモデルの定義\n",
    "xgboost_model = xgb.XGBRegressor(random_state=42)\n",
    "\n",
    "# ハイパーパラメータのグリッド\n",
    "param_grid = {\n",
    "    'n_estimators': [100, 200, 300],\n",
    "    'max_depth': [3, 6, 9],\n",
    "    'learning_rate': [0.01, 0.1, 0.2],\n",
    "    'subsample': [0.6, 0.8, 1.0],\n",
    "    'colsample_bytree': [0.6, 0.8, 1.0]\n",
    "}\n",
    "\n",
    "# グリッドサーチの設定\n",
    "grid_search = GridSearchCV(estimator=xgboost_model, param_grid=param_grid, cv=5, scoring='neg_mean_absolute_error', n_jobs=-1, verbose=0)\n",
    "\n",
    "# グリッドサーチの実行\n",
    "grid_search.fit(X_train, y_train)\n",
    "\n",
    "# 最適なハイパーパラメータの表示\n",
    "print(f\"Best parameters found: {grid_search.best_params_}\")\n",
    "print(f\"Best cross-validation MAE: {-grid_search.best_score_:.4f}\")\n",
    "\n",
    "# 最適なモデルを取得\n",
    "best_model = grid_search.best_estimator_\n",
    "\n",
    "# テストデータを使った予測\n",
    "y_pred = best_model.predict(X_test)\n",
    "\n",
    "# 評価指標の計算\n",
    "mae = mean_absolute_error(y_test, y_pred)\n",
    "mse = mean_squared_error(y_test, y_pred)\n",
    "r2 = r2_score(y_test, y_pred)\n",
    "rmse = np.sqrt(mean_squared_error(y_test, y_pred))\n",
    "\n",
    "# 結果の表示\n",
    "print(f\"Mean Absolute Error (MAE): {mae:.4f}\")\n",
    "print(f\"Mean Squared Error (MSE): {mse:.4f}\")\n",
    "print(f\"R-squared (R2): {r2:.4f}\")\n",
    "print(f\"Root Mean Squared Error (RMSE): {rmse:.4f}\")\n",
    "\n",
    "# 最適なモデルの保存\n",
    "model_path = os.path.join('/Users/hayakawakazue/Downloads/house_price/model', 'xgboost_0721_1.joblib')\n",
    "joblib.dump(best_model, model_path)\n",
    "print(f\"最適なXGBoostモデルが {model_path} に保存されました。\")\n",
    "\n",
    "# 実際の値の平均を計算\n",
    "mean_actual_value = np.mean(y_test)\n",
    "print(f\"Mean Actual Value: {mean_actual_value}\")\n",
    "\n",
    "# 誤差のパーセンテージを計算\n",
    "error_percentage = (mae / mean_actual_value) * 100\n",
    "print(f\"Mean Absolute Percentage Error (MAPE): {error_percentage:.2f}%\")\n"
   ]
  },
  {
   "cell_type": "code",
   "execution_count": null,
   "id": "8693ec82-c320-4bbf-92a5-20b0271cb865",
   "metadata": {},
   "outputs": [],
   "source": []
  }
 ],
 "metadata": {
  "kernelspec": {
   "display_name": "Python 3 (ipykernel)",
   "language": "python",
   "name": "python3"
  },
  "language_info": {
   "codemirror_mode": {
    "name": "ipython",
    "version": 3
   },
   "file_extension": ".py",
   "mimetype": "text/x-python",
   "name": "python",
   "nbconvert_exporter": "python",
   "pygments_lexer": "ipython3",
   "version": "3.12.4"
  }
 },
 "nbformat": 4,
 "nbformat_minor": 5
}
